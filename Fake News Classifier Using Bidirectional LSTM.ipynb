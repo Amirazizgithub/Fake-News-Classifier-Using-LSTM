{
 "cells": [
  {
   "cell_type": "markdown",
   "id": "52acd6ff",
   "metadata": {},
   "source": [
    "# Fake News Classifier Using Bidirectional LSTM"
   ]
  },
  {
   "cell_type": "markdown",
   "id": "367df5a1",
   "metadata": {},
   "source": [
    "Dataset: https://www.kaggle.com/c/fake-news/data#"
   ]
  },
  {
   "cell_type": "code",
   "execution_count": 1,
   "id": "1afc9807",
   "metadata": {},
   "outputs": [],
   "source": [
    "import pandas as pd"
   ]
  },
  {
   "cell_type": "code",
   "execution_count": 2,
   "id": "da7c027c",
   "metadata": {},
   "outputs": [
    {
     "data": {
      "text/html": [
       "<div>\n",
       "<style scoped>\n",
       "    .dataframe tbody tr th:only-of-type {\n",
       "        vertical-align: middle;\n",
       "    }\n",
       "\n",
       "    .dataframe tbody tr th {\n",
       "        vertical-align: top;\n",
       "    }\n",
       "\n",
       "    .dataframe thead th {\n",
       "        text-align: right;\n",
       "    }\n",
       "</style>\n",
       "<table border=\"1\" class=\"dataframe\">\n",
       "  <thead>\n",
       "    <tr style=\"text-align: right;\">\n",
       "      <th></th>\n",
       "      <th>id</th>\n",
       "      <th>title</th>\n",
       "      <th>author</th>\n",
       "      <th>text</th>\n",
       "      <th>label</th>\n",
       "    </tr>\n",
       "  </thead>\n",
       "  <tbody>\n",
       "    <tr>\n",
       "      <th>0</th>\n",
       "      <td>0</td>\n",
       "      <td>House Dem Aide: We Didn’t Even See Comey’s Let...</td>\n",
       "      <td>Darrell Lucus</td>\n",
       "      <td>House Dem Aide: We Didn’t Even See Comey’s Let...</td>\n",
       "      <td>1</td>\n",
       "    </tr>\n",
       "    <tr>\n",
       "      <th>1</th>\n",
       "      <td>1</td>\n",
       "      <td>FLYNN: Hillary Clinton, Big Woman on Campus - ...</td>\n",
       "      <td>Daniel J. Flynn</td>\n",
       "      <td>Ever get the feeling your life circles the rou...</td>\n",
       "      <td>0</td>\n",
       "    </tr>\n",
       "    <tr>\n",
       "      <th>2</th>\n",
       "      <td>2</td>\n",
       "      <td>Why the Truth Might Get You Fired</td>\n",
       "      <td>Consortiumnews.com</td>\n",
       "      <td>Why the Truth Might Get You Fired October 29, ...</td>\n",
       "      <td>1</td>\n",
       "    </tr>\n",
       "    <tr>\n",
       "      <th>3</th>\n",
       "      <td>3</td>\n",
       "      <td>15 Civilians Killed In Single US Airstrike Hav...</td>\n",
       "      <td>Jessica Purkiss</td>\n",
       "      <td>Videos 15 Civilians Killed In Single US Airstr...</td>\n",
       "      <td>1</td>\n",
       "    </tr>\n",
       "    <tr>\n",
       "      <th>4</th>\n",
       "      <td>4</td>\n",
       "      <td>Iranian woman jailed for fictional unpublished...</td>\n",
       "      <td>Howard Portnoy</td>\n",
       "      <td>Print \\nAn Iranian woman has been sentenced to...</td>\n",
       "      <td>1</td>\n",
       "    </tr>\n",
       "  </tbody>\n",
       "</table>\n",
       "</div>"
      ],
      "text/plain": [
       "   id                                              title              author  \\\n",
       "0   0  House Dem Aide: We Didn’t Even See Comey’s Let...       Darrell Lucus   \n",
       "1   1  FLYNN: Hillary Clinton, Big Woman on Campus - ...     Daniel J. Flynn   \n",
       "2   2                  Why the Truth Might Get You Fired  Consortiumnews.com   \n",
       "3   3  15 Civilians Killed In Single US Airstrike Hav...     Jessica Purkiss   \n",
       "4   4  Iranian woman jailed for fictional unpublished...      Howard Portnoy   \n",
       "\n",
       "                                                text  label  \n",
       "0  House Dem Aide: We Didn’t Even See Comey’s Let...      1  \n",
       "1  Ever get the feeling your life circles the rou...      0  \n",
       "2  Why the Truth Might Get You Fired October 29, ...      1  \n",
       "3  Videos 15 Civilians Killed In Single US Airstr...      1  \n",
       "4  Print \\nAn Iranian woman has been sentenced to...      1  "
      ]
     },
     "execution_count": 2,
     "metadata": {},
     "output_type": "execute_result"
    }
   ],
   "source": [
    "## Load the Dataset\n",
    "df = pd.read_csv('train.csv')\n",
    "df.head()"
   ]
  },
  {
   "cell_type": "code",
   "execution_count": 3,
   "id": "7a4bb71c",
   "metadata": {},
   "outputs": [
    {
     "data": {
      "text/plain": [
       "(20800, 5)"
      ]
     },
     "execution_count": 3,
     "metadata": {},
     "output_type": "execute_result"
    }
   ],
   "source": [
    "df.shape"
   ]
  },
  {
   "cell_type": "code",
   "execution_count": 4,
   "id": "f909ae46",
   "metadata": {},
   "outputs": [],
   "source": [
    "## Drop the Null value\n",
    "df = df.dropna()"
   ]
  },
  {
   "cell_type": "code",
   "execution_count": 5,
   "id": "4ce41cd5",
   "metadata": {},
   "outputs": [
    {
     "data": {
      "text/plain": [
       "(18285, 5)"
      ]
     },
     "execution_count": 5,
     "metadata": {},
     "output_type": "execute_result"
    }
   ],
   "source": [
    "df.shape"
   ]
  },
  {
   "cell_type": "code",
   "execution_count": 6,
   "id": "49cff893",
   "metadata": {},
   "outputs": [
    {
     "data": {
      "text/plain": [
       "(18285, 4)"
      ]
     },
     "execution_count": 6,
     "metadata": {},
     "output_type": "execute_result"
    }
   ],
   "source": [
    "## Get the Independent Features\n",
    "X = df.drop(columns='label', axis=1)\n",
    "X.shape"
   ]
  },
  {
   "cell_type": "code",
   "execution_count": 7,
   "id": "945d5fab",
   "metadata": {},
   "outputs": [
    {
     "data": {
      "text/plain": [
       "(18285,)"
      ]
     },
     "execution_count": 7,
     "metadata": {},
     "output_type": "execute_result"
    }
   ],
   "source": [
    "## Get the Dependent Feature\n",
    "y = df['label']\n",
    "y.shape"
   ]
  },
  {
   "cell_type": "code",
   "execution_count": 8,
   "id": "81465de5",
   "metadata": {},
   "outputs": [
    {
     "data": {
      "text/plain": [
       "0    10361\n",
       "1     7924\n",
       "Name: label, dtype: int64"
      ]
     },
     "execution_count": 8,
     "metadata": {},
     "output_type": "execute_result"
    }
   ],
   "source": [
    "y.value_counts()"
   ]
  },
  {
   "cell_type": "markdown",
   "id": "b5ed0dcd",
   "metadata": {},
   "source": [
    "Import dependencies for LSTM model"
   ]
  },
  {
   "cell_type": "code",
   "execution_count": 9,
   "id": "f763982e",
   "metadata": {},
   "outputs": [],
   "source": [
    "from tensorflow.keras.layers import Embedding, Dropout, LSTM, Dense, Bidirectional\n",
    "from tensorflow.keras.preprocessing.sequence import pad_sequences\n",
    "from tensorflow.keras.models import Sequential\n",
    "from tensorflow.keras.preprocessing.text import one_hot"
   ]
  },
  {
   "cell_type": "code",
   "execution_count": 10,
   "id": "39a05b9a",
   "metadata": {},
   "outputs": [],
   "source": [
    "## Vocabulary size\n",
    "voc_size = 5000"
   ]
  },
  {
   "cell_type": "code",
   "execution_count": 11,
   "id": "a5674b9f",
   "metadata": {},
   "outputs": [],
   "source": [
    "messages = X['title']"
   ]
  },
  {
   "cell_type": "code",
   "execution_count": 12,
   "id": "6907c2d0",
   "metadata": {},
   "outputs": [
    {
     "data": {
      "text/plain": [
       "18285"
      ]
     },
     "execution_count": 12,
     "metadata": {},
     "output_type": "execute_result"
    }
   ],
   "source": [
    "len(messages)"
   ]
  },
  {
   "cell_type": "code",
   "execution_count": 13,
   "id": "fee0467b",
   "metadata": {},
   "outputs": [
    {
     "data": {
      "text/plain": [
       "'FLYNN: Hillary Clinton, Big Woman on Campus - Breitbart'"
      ]
     },
     "execution_count": 13,
     "metadata": {},
     "output_type": "execute_result"
    }
   ],
   "source": [
    "messages[1]"
   ]
  },
  {
   "cell_type": "markdown",
   "id": "b6a465cd",
   "metadata": {},
   "source": [
    "Text Preprocessing"
   ]
  },
  {
   "cell_type": "code",
   "execution_count": 14,
   "id": "e0ffd9f8",
   "metadata": {},
   "outputs": [],
   "source": [
    "import nltk\n",
    "import re\n",
    "from nltk.corpus import stopwords"
   ]
  },
  {
   "cell_type": "code",
   "execution_count": 15,
   "id": "2bce8f06",
   "metadata": {},
   "outputs": [
    {
     "name": "stderr",
     "output_type": "stream",
     "text": [
      "[nltk_data] Downloading package stopwords to\n",
      "[nltk_data]     C:\\Users\\Administrator\\AppData\\Roaming\\nltk_data...\n",
      "[nltk_data]   Package stopwords is already up-to-date!\n"
     ]
    },
    {
     "data": {
      "text/plain": [
       "True"
      ]
     },
     "execution_count": 15,
     "metadata": {},
     "output_type": "execute_result"
    }
   ],
   "source": [
    "nltk.download('stopwords')"
   ]
  },
  {
   "cell_type": "code",
   "execution_count": 16,
   "id": "a9edbca8",
   "metadata": {},
   "outputs": [],
   "source": [
    "## Dataset Preprocessing\n",
    "from nltk.stem.porter import PorterStemmer ##stemming purpose\n",
    "ps = PorterStemmer()\n",
    "corpus = []\n",
    "for i in messages:\n",
    "    review = re.sub('[^a-zA-Z]', ' ',i).lower().split()\n",
    "    \n",
    "    review = [ps.stem(word) for word in review if not word in stopwords.words('english')]\n",
    "    review = ' '.join(review)\n",
    "    corpus.append(review)"
   ]
  },
  {
   "cell_type": "code",
   "execution_count": 17,
   "id": "0c210b8f",
   "metadata": {},
   "outputs": [
    {
     "data": {
      "text/plain": [
       "['hous dem aid even see comey letter jason chaffetz tweet',\n",
       " 'flynn hillari clinton big woman campu breitbart',\n",
       " 'truth might get fire',\n",
       " 'civilian kill singl us airstrik identifi',\n",
       " 'iranian woman jail fiction unpublish stori woman stone death adulteri',\n",
       " 'jacki mason hollywood would love trump bomb north korea lack tran bathroom exclus video breitbart',\n",
       " 'beno hamon win french socialist parti presidenti nomin new york time',\n",
       " 'back channel plan ukrain russia courtesi trump associ new york time',\n",
       " 'obama organ action partner soro link indivis disrupt trump agenda',\n",
       " 'bbc comedi sketch real housew isi caus outrag']"
      ]
     },
     "execution_count": 17,
     "metadata": {},
     "output_type": "execute_result"
    }
   ],
   "source": [
    "corpus[:10]"
   ]
  },
  {
   "cell_type": "markdown",
   "id": "0c0906db",
   "metadata": {},
   "source": [
    "ONE HOT ENCODING"
   ]
  },
  {
   "cell_type": "code",
   "execution_count": 18,
   "id": "b710d73f",
   "metadata": {},
   "outputs": [
    {
     "data": {
      "text/plain": [
       "[[4357, 1261, 3961, 4835, 3964, 3886, 532, 4911, 1851, 4200],\n",
       " [1408, 2465, 4743, 423, 117, 1433, 568],\n",
       " [1284, 4557, 2811, 3784],\n",
       " [4611, 4669, 951, 735, 226, 919],\n",
       " [1599, 117, 2363, 628, 1878, 4583, 117, 4012, 3021, 98]]"
      ]
     },
     "execution_count": 18,
     "metadata": {},
     "output_type": "execute_result"
    }
   ],
   "source": [
    "onehot_repr=[one_hot(words,voc_size)for words in corpus] \n",
    "onehot_repr[:5]"
   ]
  },
  {
   "cell_type": "markdown",
   "id": "504cc300",
   "metadata": {},
   "source": [
    "Padding for make length of each sentences are same"
   ]
  },
  {
   "cell_type": "code",
   "execution_count": 19,
   "id": "cee3fc5a",
   "metadata": {},
   "outputs": [
    {
     "name": "stdout",
     "output_type": "stream",
     "text": [
      "[[   0    0    0 ... 4911 1851 4200]\n",
      " [   0    0    0 ...  117 1433  568]\n",
      " [   0    0    0 ... 4557 2811 3784]\n",
      " ...\n",
      " [   0    0    0 ... 4181 1125 3693]\n",
      " [   0    0    0 ...  140  336 1443]\n",
      " [   0    0    0 ... 3231 3654 4802]]\n"
     ]
    }
   ],
   "source": [
    "sent_length=15\n",
    "embedded_docs=pad_sequences(onehot_repr,padding='pre',maxlen=sent_length)\n",
    "print(embedded_docs)"
   ]
  },
  {
   "cell_type": "code",
   "execution_count": 20,
   "id": "d19b89b4",
   "metadata": {},
   "outputs": [
    {
     "data": {
      "text/plain": [
       "(18285, 15)"
      ]
     },
     "execution_count": 20,
     "metadata": {},
     "output_type": "execute_result"
    }
   ],
   "source": [
    "embedded_docs.shape"
   ]
  },
  {
   "cell_type": "markdown",
   "id": "2386dca8",
   "metadata": {},
   "source": [
    "Creating model"
   ]
  },
  {
   "cell_type": "code",
   "execution_count": 21,
   "id": "f0cd6362",
   "metadata": {},
   "outputs": [
    {
     "name": "stdout",
     "output_type": "stream",
     "text": [
      "Model: \"sequential\"\n",
      "_________________________________________________________________\n",
      " Layer (type)                Output Shape              Param #   \n",
      "=================================================================\n",
      " embedding (Embedding)       (None, 15, 40)            200000    \n",
      "                                                                 \n",
      " bidirectional (Bidirectiona  (None, 200)              112800    \n",
      " l)                                                              \n",
      "                                                                 \n",
      " dense (Dense)               (None, 1)                 201       \n",
      "                                                                 \n",
      "=================================================================\n",
      "Total params: 313,001\n",
      "Trainable params: 313,001\n",
      "Non-trainable params: 0\n",
      "_________________________________________________________________\n",
      "None\n"
     ]
    }
   ],
   "source": [
    "features=40  ## features representation\n",
    "model=Sequential()\n",
    "\n",
    "## Add Input/Embedding Layer\n",
    "model.add(Embedding(voc_size,features,input_length=sent_length))\n",
    "\n",
    "## Add Hidden/LSTM Layer\n",
    "model.add(Bidirectional(LSTM(100)))  ## Taking 1 LSTM Layer with 100 Neurons\n",
    "\n",
    "## Add Output Layer\n",
    "model.add(Dense(1,activation='sigmoid'))\n",
    "\n",
    "model.compile(loss='binary_crossentropy',optimizer='adam',metrics=['accuracy'])\n",
    "print(model.summary())"
   ]
  },
  {
   "cell_type": "code",
   "execution_count": 22,
   "id": "a10e064a",
   "metadata": {},
   "outputs": [],
   "source": [
    "## Convert into Array\n",
    "import numpy as np\n",
    "X_final=np.array(embedded_docs)\n",
    "y_final=np.array(y)"
   ]
  },
  {
   "cell_type": "code",
   "execution_count": 23,
   "id": "d75784d1",
   "metadata": {},
   "outputs": [
    {
     "data": {
      "text/plain": [
       "((18285, 15), (18285,))"
      ]
     },
     "execution_count": 23,
     "metadata": {},
     "output_type": "execute_result"
    }
   ],
   "source": [
    "X_final.shape,y_final.shape"
   ]
  },
  {
   "cell_type": "markdown",
   "id": "0fc9cd82",
   "metadata": {},
   "source": [
    "Splitng into train and test data"
   ]
  },
  {
   "cell_type": "code",
   "execution_count": 24,
   "id": "00370c60",
   "metadata": {},
   "outputs": [],
   "source": [
    "from sklearn.model_selection import train_test_split\n",
    "X_train, X_test, y_train, y_test = train_test_split(X_final, y_final, test_size=0.33, random_state=42)"
   ]
  },
  {
   "cell_type": "markdown",
   "id": "9fbaf898",
   "metadata": {},
   "source": [
    "Model Training"
   ]
  },
  {
   "cell_type": "code",
   "execution_count": 25,
   "id": "bed04df6",
   "metadata": {},
   "outputs": [
    {
     "name": "stdout",
     "output_type": "stream",
     "text": [
      "Epoch 1/10\n",
      "123/123 [==============================] - 14s 61ms/step - loss: 0.3252 - accuracy: 0.8359 - val_loss: 0.2137 - val_accuracy: 0.9112\n",
      "Epoch 2/10\n",
      "123/123 [==============================] - 9s 73ms/step - loss: 0.1384 - accuracy: 0.9469 - val_loss: 0.2074 - val_accuracy: 0.9188\n",
      "Epoch 3/10\n",
      "123/123 [==============================] - 6s 46ms/step - loss: 0.0946 - accuracy: 0.9643 - val_loss: 0.2431 - val_accuracy: 0.9171\n",
      "Epoch 4/10\n",
      "123/123 [==============================] - 6s 47ms/step - loss: 0.0644 - accuracy: 0.9761 - val_loss: 0.3057 - val_accuracy: 0.9125\n",
      "Epoch 5/10\n",
      "123/123 [==============================] - 6s 47ms/step - loss: 0.0449 - accuracy: 0.9843 - val_loss: 0.3401 - val_accuracy: 0.9158\n",
      "Epoch 6/10\n",
      "123/123 [==============================] - 6s 47ms/step - loss: 0.0300 - accuracy: 0.9892 - val_loss: 0.3558 - val_accuracy: 0.9059\n",
      "Epoch 7/10\n",
      "123/123 [==============================] - 6s 48ms/step - loss: 0.0187 - accuracy: 0.9945 - val_loss: 0.4387 - val_accuracy: 0.9130\n",
      "Epoch 8/10\n",
      "123/123 [==============================] - 6s 45ms/step - loss: 0.0106 - accuracy: 0.9975 - val_loss: 0.4814 - val_accuracy: 0.9142\n",
      "Epoch 9/10\n",
      "123/123 [==============================] - 6s 47ms/step - loss: 0.0068 - accuracy: 0.9983 - val_loss: 0.5599 - val_accuracy: 0.9107\n",
      "Epoch 10/10\n",
      "123/123 [==============================] - 6s 51ms/step - loss: 0.0048 - accuracy: 0.9989 - val_loss: 0.5843 - val_accuracy: 0.9092\n"
     ]
    },
    {
     "data": {
      "text/plain": [
       "<keras.callbacks.History at 0x250211f3460>"
      ]
     },
     "execution_count": 25,
     "metadata": {},
     "output_type": "execute_result"
    }
   ],
   "source": [
    "model.fit(X_train,y_train,validation_data=(X_test,y_test),epochs=10,batch_size=100)"
   ]
  },
  {
   "cell_type": "markdown",
   "id": "6a0dd9c2",
   "metadata": {},
   "source": [
    "# NOTICE PROBLEM"
   ]
  },
  {
   "cell_type": "markdown",
   "id": "3a02c0f1",
   "metadata": {},
   "source": [
    "Model Training Accuracy is 100% & Testing accurace is 90%. So, it is overfitting situation.\n",
    "Now, We need to regulized model with add droput layer."
   ]
  },
  {
   "cell_type": "markdown",
   "id": "3bb760ce",
   "metadata": {},
   "source": [
    "Regulized the model "
   ]
  },
  {
   "cell_type": "code",
   "execution_count": 31,
   "id": "1b28085d",
   "metadata": {},
   "outputs": [
    {
     "name": "stdout",
     "output_type": "stream",
     "text": [
      "Model: \"sequential_2\"\n",
      "_________________________________________________________________\n",
      " Layer (type)                Output Shape              Param #   \n",
      "=================================================================\n",
      " embedding_2 (Embedding)     (None, 15, 30)            150000    \n",
      "                                                                 \n",
      " dropout_2 (Dropout)         (None, 15, 30)            0         \n",
      "                                                                 \n",
      " bidirectional_2 (Bidirectio  (None, 200)              104800    \n",
      " nal)                                                            \n",
      "                                                                 \n",
      " dropout_3 (Dropout)         (None, 200)               0         \n",
      "                                                                 \n",
      " dense_2 (Dense)             (None, 1)                 201       \n",
      "                                                                 \n",
      "=================================================================\n",
      "Total params: 255,001\n",
      "Trainable params: 255,001\n",
      "Non-trainable params: 0\n",
      "_________________________________________________________________\n",
      "None\n"
     ]
    }
   ],
   "source": [
    "features=30  ##features representation\n",
    "model=Sequential()\n",
    "\n",
    "## Add Input/Embedding Layer\n",
    "model.add(Embedding(voc_size,features,input_length=sent_length))\n",
    "model.add(Dropout(0.7))\n",
    "\n",
    "## Add Hidden/LSTM Layer\n",
    "model.add(Bidirectional(LSTM(100)))  ## Taking 1 LSTM Layer with 100 Neurons\n",
    "model.add(Dropout(0.7))\n",
    "\n",
    "## Add Output Layer\n",
    "model.add(Dense(1,activation='sigmoid'))\n",
    "\n",
    "model.compile(loss='binary_crossentropy',optimizer='adam',metrics=['accuracy'])\n",
    "print(model.summary())"
   ]
  },
  {
   "cell_type": "code",
   "execution_count": 32,
   "id": "f224ad8a",
   "metadata": {},
   "outputs": [
    {
     "name": "stdout",
     "output_type": "stream",
     "text": [
      "Epoch 1/10\n",
      "123/123 [==============================] - 11s 51ms/step - loss: 0.3609 - accuracy: 0.8174 - val_loss: 0.2165 - val_accuracy: 0.9070\n",
      "Epoch 2/10\n",
      "123/123 [==============================] - 5s 39ms/step - loss: 0.1994 - accuracy: 0.9200 - val_loss: 0.2052 - val_accuracy: 0.9140\n",
      "Epoch 3/10\n",
      "123/123 [==============================] - 5s 43ms/step - loss: 0.1609 - accuracy: 0.9366 - val_loss: 0.1972 - val_accuracy: 0.9168\n",
      "Epoch 4/10\n",
      "123/123 [==============================] - 5s 40ms/step - loss: 0.1370 - accuracy: 0.9476 - val_loss: 0.1946 - val_accuracy: 0.9193\n",
      "Epoch 5/10\n",
      "123/123 [==============================] - 5s 43ms/step - loss: 0.1216 - accuracy: 0.9538 - val_loss: 0.2316 - val_accuracy: 0.9173\n",
      "Epoch 6/10\n",
      "123/123 [==============================] - 6s 51ms/step - loss: 0.1106 - accuracy: 0.9564 - val_loss: 0.2348 - val_accuracy: 0.9175\n",
      "Epoch 7/10\n",
      "123/123 [==============================] - 5s 42ms/step - loss: 0.1005 - accuracy: 0.9613 - val_loss: 0.2250 - val_accuracy: 0.9188\n",
      "Epoch 8/10\n",
      "123/123 [==============================] - 5s 41ms/step - loss: 0.0940 - accuracy: 0.9646 - val_loss: 0.2532 - val_accuracy: 0.9158\n",
      "Epoch 9/10\n",
      "123/123 [==============================] - 5s 42ms/step - loss: 0.0876 - accuracy: 0.9668 - val_loss: 0.2316 - val_accuracy: 0.9176\n",
      "Epoch 10/10\n",
      "123/123 [==============================] - 5s 41ms/step - loss: 0.0847 - accuracy: 0.9666 - val_loss: 0.2619 - val_accuracy: 0.9152\n"
     ]
    },
    {
     "data": {
      "text/plain": [
       "<keras.callbacks.History at 0x2502b5c5b80>"
      ]
     },
     "execution_count": 32,
     "metadata": {},
     "output_type": "execute_result"
    }
   ],
   "source": [
    "model.fit(X_train,y_train,validation_data=(X_test,y_test),epochs=10,batch_size=100)"
   ]
  },
  {
   "cell_type": "markdown",
   "id": "5b2369fb",
   "metadata": {},
   "source": [
    "Performance Metrics And Accuracy"
   ]
  },
  {
   "cell_type": "code",
   "execution_count": 33,
   "id": "e74fdaba",
   "metadata": {},
   "outputs": [
    {
     "name": "stdout",
     "output_type": "stream",
     "text": [
      "189/189 [==============================] - 2s 7ms/step\n"
     ]
    },
    {
     "data": {
      "text/plain": [
       "array([[1],\n",
       "       [0],\n",
       "       [0],\n",
       "       ...,\n",
       "       [0],\n",
       "       [1],\n",
       "       [1]])"
      ]
     },
     "execution_count": 33,
     "metadata": {},
     "output_type": "execute_result"
    }
   ],
   "source": [
    "y_pred=model.predict(X_test)\n",
    "y_pred=np.where(y_pred > 0.6, 1,0)\n",
    "y_pred"
   ]
  },
  {
   "cell_type": "code",
   "execution_count": 34,
   "id": "fee9bb10",
   "metadata": {},
   "outputs": [
    {
     "data": {
      "text/plain": [
       "array([[3114,  305],\n",
       "       [ 225, 2391]], dtype=int64)"
      ]
     },
     "execution_count": 34,
     "metadata": {},
     "output_type": "execute_result"
    }
   ],
   "source": [
    "from sklearn.metrics import confusion_matrix\n",
    "confusion_matrix(y_test,y_pred)"
   ]
  },
  {
   "cell_type": "code",
   "execution_count": 35,
   "id": "008e3636",
   "metadata": {},
   "outputs": [
    {
     "data": {
      "text/plain": [
       "0.9121789560894781"
      ]
     },
     "execution_count": 35,
     "metadata": {},
     "output_type": "execute_result"
    }
   ],
   "source": [
    "from sklearn.metrics import accuracy_score\n",
    "accuracy_score(y_test,y_pred)"
   ]
  },
  {
   "cell_type": "code",
   "execution_count": 36,
   "id": "edfdc471",
   "metadata": {},
   "outputs": [
    {
     "name": "stdout",
     "output_type": "stream",
     "text": [
      "              precision    recall  f1-score   support\n",
      "\n",
      "           0       0.93      0.91      0.92      3419\n",
      "           1       0.89      0.91      0.90      2616\n",
      "\n",
      "    accuracy                           0.91      6035\n",
      "   macro avg       0.91      0.91      0.91      6035\n",
      "weighted avg       0.91      0.91      0.91      6035\n",
      "\n"
     ]
    }
   ],
   "source": [
    "from sklearn.metrics import classification_report\n",
    "print(classification_report(y_test,y_pred))"
   ]
  },
  {
   "cell_type": "code",
   "execution_count": null,
   "id": "c24ca543",
   "metadata": {},
   "outputs": [],
   "source": []
  }
 ],
 "metadata": {
  "kernelspec": {
   "display_name": "Python 3 (ipykernel)",
   "language": "python",
   "name": "python3"
  },
  "language_info": {
   "codemirror_mode": {
    "name": "ipython",
    "version": 3
   },
   "file_extension": ".py",
   "mimetype": "text/x-python",
   "name": "python",
   "nbconvert_exporter": "python",
   "pygments_lexer": "ipython3",
   "version": "3.9.16"
  }
 },
 "nbformat": 4,
 "nbformat_minor": 5
}
